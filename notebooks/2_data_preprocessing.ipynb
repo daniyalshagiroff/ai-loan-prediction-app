{
 "cells": [
  {
   "cell_type": "code",
   "execution_count": 2,
   "id": "c9edaa88",
   "metadata": {},
   "outputs": [],
   "source": [
    "import pandas as pd\n",
    "import numpy as np\n",
    "import matplotlib.pyplot as plt\n",
    "import seaborn as sns\n",
    "from sklearn.preprocessing import LabelEncoder, StandardScaler, MinMaxScaler\n",
    "from sklearn.impute import SimpleImputer\n",
    "from sklearn.model_selection import train_test_split\n",
    "import os\n",
    "import joblib\n"
   ]
  },
  {
   "cell_type": "code",
   "execution_count": 3,
   "id": "11eee86e",
   "metadata": {},
   "outputs": [],
   "source": [
    "data = pd.read_csv('../data/loan_approval_dataset.csv')"
   ]
  },
  {
   "cell_type": "code",
   "execution_count": 13,
   "id": "392cc839",
   "metadata": {},
   "outputs": [
    {
     "data": {
      "text/html": [
       "<div>\n",
       "<style scoped>\n",
       "    .dataframe tbody tr th:only-of-type {\n",
       "        vertical-align: middle;\n",
       "    }\n",
       "\n",
       "    .dataframe tbody tr th {\n",
       "        vertical-align: top;\n",
       "    }\n",
       "\n",
       "    .dataframe thead th {\n",
       "        text-align: right;\n",
       "    }\n",
       "</style>\n",
       "<table border=\"1\" class=\"dataframe\">\n",
       "  <thead>\n",
       "    <tr style=\"text-align: right;\">\n",
       "      <th></th>\n",
       "      <th>loan_id</th>\n",
       "      <th>no_of_dependents</th>\n",
       "      <th>education</th>\n",
       "      <th>self_employed</th>\n",
       "      <th>income_annum</th>\n",
       "      <th>loan_amount</th>\n",
       "      <th>loan_term</th>\n",
       "      <th>cibil_score</th>\n",
       "      <th>residential_assets_value</th>\n",
       "      <th>commercial_assets_value</th>\n",
       "      <th>luxury_assets_value</th>\n",
       "      <th>bank_asset_value</th>\n",
       "      <th>loan_status</th>\n",
       "      <th>Total assets</th>\n",
       "    </tr>\n",
       "  </thead>\n",
       "  <tbody>\n",
       "    <tr>\n",
       "      <th>0</th>\n",
       "      <td>1</td>\n",
       "      <td>2</td>\n",
       "      <td>1</td>\n",
       "      <td>0</td>\n",
       "      <td>0.969072</td>\n",
       "      <td>0.755102</td>\n",
       "      <td>12</td>\n",
       "      <td>778</td>\n",
       "      <td>0.085616</td>\n",
       "      <td>0.907216</td>\n",
       "      <td>0.575835</td>\n",
       "      <td>0.544218</td>\n",
       "      <td>1</td>\n",
       "      <td>0.557032</td>\n",
       "    </tr>\n",
       "    <tr>\n",
       "      <th>1</th>\n",
       "      <td>2</td>\n",
       "      <td>0</td>\n",
       "      <td>0</td>\n",
       "      <td>1</td>\n",
       "      <td>0.402062</td>\n",
       "      <td>0.303571</td>\n",
       "      <td>8</td>\n",
       "      <td>417</td>\n",
       "      <td>0.095890</td>\n",
       "      <td>0.113402</td>\n",
       "      <td>0.218509</td>\n",
       "      <td>0.224490</td>\n",
       "      <td>0</td>\n",
       "      <td>0.183832</td>\n",
       "    </tr>\n",
       "    <tr>\n",
       "      <th>2</th>\n",
       "      <td>3</td>\n",
       "      <td>3</td>\n",
       "      <td>1</td>\n",
       "      <td>0</td>\n",
       "      <td>0.917526</td>\n",
       "      <td>0.750000</td>\n",
       "      <td>20</td>\n",
       "      <td>506</td>\n",
       "      <td>0.246575</td>\n",
       "      <td>0.231959</td>\n",
       "      <td>0.848329</td>\n",
       "      <td>0.870748</td>\n",
       "      <td>0</td>\n",
       "      <td>0.634551</td>\n",
       "    </tr>\n",
       "    <tr>\n",
       "      <th>3</th>\n",
       "      <td>4</td>\n",
       "      <td>3</td>\n",
       "      <td>1</td>\n",
       "      <td>0</td>\n",
       "      <td>0.824742</td>\n",
       "      <td>0.775510</td>\n",
       "      <td>8</td>\n",
       "      <td>467</td>\n",
       "      <td>0.626712</td>\n",
       "      <td>0.170103</td>\n",
       "      <td>0.591260</td>\n",
       "      <td>0.537415</td>\n",
       "      <td>0</td>\n",
       "      <td>0.579181</td>\n",
       "    </tr>\n",
       "    <tr>\n",
       "      <th>4</th>\n",
       "      <td>5</td>\n",
       "      <td>5</td>\n",
       "      <td>0</td>\n",
       "      <td>1</td>\n",
       "      <td>0.989691</td>\n",
       "      <td>0.609694</td>\n",
       "      <td>20</td>\n",
       "      <td>382</td>\n",
       "      <td>0.428082</td>\n",
       "      <td>0.422680</td>\n",
       "      <td>0.748072</td>\n",
       "      <td>0.340136</td>\n",
       "      <td>0</td>\n",
       "      <td>0.604651</td>\n",
       "    </tr>\n",
       "  </tbody>\n",
       "</table>\n",
       "</div>"
      ],
      "text/plain": [
       "   loan_id  no_of_dependents  education  self_employed  income_annum  \\\n",
       "0        1                 2          1              0      0.969072   \n",
       "1        2                 0          0              1      0.402062   \n",
       "2        3                 3          1              0      0.917526   \n",
       "3        4                 3          1              0      0.824742   \n",
       "4        5                 5          0              1      0.989691   \n",
       "\n",
       "   loan_amount  loan_term  cibil_score  residential_assets_value  \\\n",
       "0     0.755102         12          778                  0.085616   \n",
       "1     0.303571          8          417                  0.095890   \n",
       "2     0.750000         20          506                  0.246575   \n",
       "3     0.775510          8          467                  0.626712   \n",
       "4     0.609694         20          382                  0.428082   \n",
       "\n",
       "   commercial_assets_value  luxury_assets_value  bank_asset_value  \\\n",
       "0                 0.907216             0.575835          0.544218   \n",
       "1                 0.113402             0.218509          0.224490   \n",
       "2                 0.231959             0.848329          0.870748   \n",
       "3                 0.170103             0.591260          0.537415   \n",
       "4                 0.422680             0.748072          0.340136   \n",
       "\n",
       "   loan_status  Total assets  \n",
       "0            1      0.557032  \n",
       "1            0      0.183832  \n",
       "2            0      0.634551  \n",
       "3            0      0.579181  \n",
       "4            0      0.604651  "
      ]
     },
     "execution_count": 13,
     "metadata": {},
     "output_type": "execute_result"
    }
   ],
   "source": [
    "data.head()"
   ]
  },
  {
   "cell_type": "code",
   "execution_count": 5,
   "id": "51ee53c6",
   "metadata": {},
   "outputs": [
    {
     "data": {
      "text/plain": [
       "education\n",
       "Graduate        2144\n",
       "Not Graduate    2125\n",
       "Name: count, dtype: int64"
      ]
     },
     "execution_count": 5,
     "metadata": {},
     "output_type": "execute_result"
    }
   ],
   "source": [
    "# Strip leading/trailing spaces from column names\n",
    "data.columns = data.columns.str.strip()\n",
    "\n",
    "# Access the 'education' column\n",
    "data[\"education\"].value_counts()"
   ]
  },
  {
   "cell_type": "code",
   "execution_count": 6,
   "id": "9079cfe9",
   "metadata": {},
   "outputs": [],
   "source": [
    "data['loan_status'] = data['loan_status'].str.strip()\n",
    "data['loan_status'] = data['loan_status'].map({'Approved': 1, 'Rejected': 0})"
   ]
  },
  {
   "cell_type": "code",
   "execution_count": 7,
   "id": "ee5872dc",
   "metadata": {},
   "outputs": [],
   "source": [
    "data[\"education\"]=data[\"education\"].str.strip()\n",
    "data['education'] = data['education'].map({'Graduate': 1, 'Not Graduate': 0})"
   ]
  },
  {
   "cell_type": "code",
   "execution_count": 8,
   "id": "94f9dc7a",
   "metadata": {},
   "outputs": [],
   "source": [
    "data[\"self_employed\"]=data[\"self_employed\"].str.strip()\n",
    "data[\"self_employed\"]=data[\"self_employed\"].map({'Yes': 1, 'No': 0})"
   ]
  },
  {
   "cell_type": "code",
   "execution_count": 9,
   "id": "a9e1a4aa",
   "metadata": {},
   "outputs": [
    {
     "data": {
      "text/plain": [
       "0    1\n",
       "1    0\n",
       "2    1\n",
       "3    1\n",
       "4    0\n",
       "Name: education, dtype: int64"
      ]
     },
     "execution_count": 9,
     "metadata": {},
     "output_type": "execute_result"
    }
   ],
   "source": [
    "data[\"education\"].head()"
   ]
  },
  {
   "cell_type": "code",
   "execution_count": 10,
   "id": "33514091",
   "metadata": {},
   "outputs": [],
   "source": [
    "data[\"Total assets\"]=data[\"residential_assets_value\"]+data[\"commercial_assets_value\"]+data[\"luxury_assets_value\"]+data[\"bank_asset_value\"]"
   ]
  },
  {
   "cell_type": "code",
   "execution_count": 11,
   "id": "bc8c28b6",
   "metadata": {},
   "outputs": [
    {
     "name": "stdout",
     "output_type": "stream",
     "text": [
      "Correlation between loan status and CIBIL score: -0.01128142674264055\n"
     ]
    }
   ],
   "source": [
    "correlation_total = data['loan_status'].corr(data['Total assets'])\n",
    "print(f\"Correlation between loan status and CIBIL score: {correlation_total}\")"
   ]
  },
  {
   "cell_type": "code",
   "execution_count": 12,
   "id": "f46e9de1",
   "metadata": {},
   "outputs": [],
   "source": [
    "scaler = MinMaxScaler()\n",
    "data[['income_annum', 'loan_amount', 'residential_assets_value', 'commercial_assets_value', 'luxury_assets_value', 'bank_asset_value', 'Total assets']] = scaler.fit_transform(data[['income_annum', 'loan_amount', 'residential_assets_value', 'commercial_assets_value', 'luxury_assets_value', 'bank_asset_value', 'Total assets']])"
   ]
  },
  {
   "cell_type": "code",
   "execution_count": null,
   "id": "add04d4a",
   "metadata": {},
   "outputs": [],
   "source": []
  }
 ],
 "metadata": {
  "kernelspec": {
   "display_name": "venv",
   "language": "python",
   "name": "python3"
  },
  "language_info": {
   "codemirror_mode": {
    "name": "ipython",
    "version": 3
   },
   "file_extension": ".py",
   "mimetype": "text/x-python",
   "name": "python",
   "nbconvert_exporter": "python",
   "pygments_lexer": "ipython3",
   "version": "3.13.0"
  }
 },
 "nbformat": 4,
 "nbformat_minor": 5
}
