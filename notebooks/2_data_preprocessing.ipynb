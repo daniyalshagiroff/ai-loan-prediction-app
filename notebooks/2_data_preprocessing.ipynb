{
 "cells": [
  {
   "cell_type": "code",
   "execution_count": 26,
   "id": "c9edaa88",
   "metadata": {},
   "outputs": [],
   "source": [
    "import pandas as pd\n",
    "import numpy as np\n",
    "import matplotlib.pyplot as plt\n",
    "import seaborn as sns\n",
    "from sklearn.preprocessing import LabelEncoder, StandardScaler, MinMaxScaler\n",
    "from sklearn.impute import SimpleImputer\n",
    "from sklearn.model_selection import train_test_split\n",
    "import os\n",
    "import joblib\n"
   ]
  },
  {
   "cell_type": "code",
   "execution_count": 27,
   "id": "11eee86e",
   "metadata": {},
   "outputs": [],
   "source": [
    "data = pd.read_csv('../data/loan_approval_dataset.csv')"
   ]
  },
  {
   "cell_type": "code",
   "execution_count": 32,
   "id": "392cc839",
   "metadata": {},
   "outputs": [
    {
     "data": {
      "text/html": [
       "<div>\n",
       "<style scoped>\n",
       "    .dataframe tbody tr th:only-of-type {\n",
       "        vertical-align: middle;\n",
       "    }\n",
       "\n",
       "    .dataframe tbody tr th {\n",
       "        vertical-align: top;\n",
       "    }\n",
       "\n",
       "    .dataframe thead th {\n",
       "        text-align: right;\n",
       "    }\n",
       "</style>\n",
       "<table border=\"1\" class=\"dataframe\">\n",
       "  <thead>\n",
       "    <tr style=\"text-align: right;\">\n",
       "      <th></th>\n",
       "      <th>loan_id</th>\n",
       "      <th>no_of_dependents</th>\n",
       "      <th>education</th>\n",
       "      <th>self_employed</th>\n",
       "      <th>income_annum</th>\n",
       "      <th>loan_amount</th>\n",
       "      <th>loan_term</th>\n",
       "      <th>cibil_score</th>\n",
       "      <th>residential_assets_value</th>\n",
       "      <th>commercial_assets_value</th>\n",
       "      <th>luxury_assets_value</th>\n",
       "      <th>bank_asset_value</th>\n",
       "      <th>loan_status</th>\n",
       "    </tr>\n",
       "  </thead>\n",
       "  <tbody>\n",
       "    <tr>\n",
       "      <th>0</th>\n",
       "      <td>1</td>\n",
       "      <td>2</td>\n",
       "      <td>1</td>\n",
       "      <td>0</td>\n",
       "      <td>9600000</td>\n",
       "      <td>29900000</td>\n",
       "      <td>12</td>\n",
       "      <td>778</td>\n",
       "      <td>2400000</td>\n",
       "      <td>17600000</td>\n",
       "      <td>22700000</td>\n",
       "      <td>8000000</td>\n",
       "      <td>1</td>\n",
       "    </tr>\n",
       "    <tr>\n",
       "      <th>1</th>\n",
       "      <td>2</td>\n",
       "      <td>0</td>\n",
       "      <td>0</td>\n",
       "      <td>1</td>\n",
       "      <td>4100000</td>\n",
       "      <td>12200000</td>\n",
       "      <td>8</td>\n",
       "      <td>417</td>\n",
       "      <td>2700000</td>\n",
       "      <td>2200000</td>\n",
       "      <td>8800000</td>\n",
       "      <td>3300000</td>\n",
       "      <td>0</td>\n",
       "    </tr>\n",
       "    <tr>\n",
       "      <th>2</th>\n",
       "      <td>3</td>\n",
       "      <td>3</td>\n",
       "      <td>1</td>\n",
       "      <td>0</td>\n",
       "      <td>9100000</td>\n",
       "      <td>29700000</td>\n",
       "      <td>20</td>\n",
       "      <td>506</td>\n",
       "      <td>7100000</td>\n",
       "      <td>4500000</td>\n",
       "      <td>33300000</td>\n",
       "      <td>12800000</td>\n",
       "      <td>0</td>\n",
       "    </tr>\n",
       "    <tr>\n",
       "      <th>3</th>\n",
       "      <td>4</td>\n",
       "      <td>3</td>\n",
       "      <td>1</td>\n",
       "      <td>0</td>\n",
       "      <td>8200000</td>\n",
       "      <td>30700000</td>\n",
       "      <td>8</td>\n",
       "      <td>467</td>\n",
       "      <td>18200000</td>\n",
       "      <td>3300000</td>\n",
       "      <td>23300000</td>\n",
       "      <td>7900000</td>\n",
       "      <td>0</td>\n",
       "    </tr>\n",
       "    <tr>\n",
       "      <th>4</th>\n",
       "      <td>5</td>\n",
       "      <td>5</td>\n",
       "      <td>0</td>\n",
       "      <td>1</td>\n",
       "      <td>9800000</td>\n",
       "      <td>24200000</td>\n",
       "      <td>20</td>\n",
       "      <td>382</td>\n",
       "      <td>12400000</td>\n",
       "      <td>8200000</td>\n",
       "      <td>29400000</td>\n",
       "      <td>5000000</td>\n",
       "      <td>0</td>\n",
       "    </tr>\n",
       "  </tbody>\n",
       "</table>\n",
       "</div>"
      ],
      "text/plain": [
       "   loan_id  no_of_dependents  education  self_employed  income_annum  \\\n",
       "0        1                 2          1              0       9600000   \n",
       "1        2                 0          0              1       4100000   \n",
       "2        3                 3          1              0       9100000   \n",
       "3        4                 3          1              0       8200000   \n",
       "4        5                 5          0              1       9800000   \n",
       "\n",
       "   loan_amount  loan_term  cibil_score  residential_assets_value  \\\n",
       "0     29900000         12          778                   2400000   \n",
       "1     12200000          8          417                   2700000   \n",
       "2     29700000         20          506                   7100000   \n",
       "3     30700000          8          467                  18200000   \n",
       "4     24200000         20          382                  12400000   \n",
       "\n",
       "   commercial_assets_value  luxury_assets_value  bank_asset_value  loan_status  \n",
       "0                 17600000             22700000           8000000            1  \n",
       "1                  2200000              8800000           3300000            0  \n",
       "2                  4500000             33300000          12800000            0  \n",
       "3                  3300000             23300000           7900000            0  \n",
       "4                  8200000             29400000           5000000            0  "
      ]
     },
     "execution_count": 32,
     "metadata": {},
     "output_type": "execute_result"
    }
   ],
   "source": [
    "data.head()"
   ]
  },
  {
   "cell_type": "code",
   "execution_count": 34,
   "id": "1bd31023",
   "metadata": {},
   "outputs": [
    {
     "name": "stdout",
     "output_type": "stream",
     "text": [
      "income_annum                 5059123\n",
      "loan_amount                 15133450\n",
      "residential_assets_value     7472616\n",
      "commercial_assets_value      4973155\n",
      "luxury_assets_value         15126305\n",
      "bank_asset_value             4976692\n",
      "dtype: int64\n",
      "no_of_dependents    4\n",
      "education           1\n",
      "self_employed       1\n",
      "Name: 0, dtype: int64\n",
      "Saved in '../data/mean_and_frequent_values.pkl'\n"
     ]
    }
   ],
   "source": [
    "mean_values = data[['income_annum', 'loan_amount', 'residential_assets_value', \n",
    "    'commercial_assets_value', 'luxury_assets_value', \n",
    "    'bank_asset_value']].mean().astype(int)\n",
    "print(mean_values)\n",
    "most_frequent_values = data[['no_of_dependents', 'education', 'self_employed']].mode().iloc[0]\n",
    "print(most_frequent_values)\n",
    "import pickle\n",
    "\n",
    "with open('../data/mean_and_frequent_values.pkl', 'wb') as file:\n",
    "    pickle.dump({'mean_values': mean_values, 'most_frequent_values': most_frequent_values}, file)\n",
    "\n",
    "print(\"Saved in '../data/mean_and_frequent_values.pkl'\")"
   ]
  },
  {
   "cell_type": "code",
   "execution_count": 28,
   "id": "51ee53c6",
   "metadata": {},
   "outputs": [
    {
     "data": {
      "text/plain": [
       "education\n",
       "Graduate        2144\n",
       "Not Graduate    2125\n",
       "Name: count, dtype: int64"
      ]
     },
     "execution_count": 28,
     "metadata": {},
     "output_type": "execute_result"
    }
   ],
   "source": [
    "# Strip leading/trailing spaces from column names\n",
    "data.columns = data.columns.str.strip()\n",
    "\n",
    "# Access the 'education' column\n",
    "data[\"education\"].value_counts()"
   ]
  },
  {
   "cell_type": "code",
   "execution_count": 29,
   "id": "9079cfe9",
   "metadata": {},
   "outputs": [],
   "source": [
    "data['loan_status'] = data['loan_status'].str.strip()\n",
    "data['loan_status'] = data['loan_status'].map({'Approved': 1, 'Rejected': 0})"
   ]
  },
  {
   "cell_type": "code",
   "execution_count": 30,
   "id": "ee5872dc",
   "metadata": {},
   "outputs": [],
   "source": [
    "data[\"education\"]=data[\"education\"].str.strip()\n",
    "data['education'] = data['education'].map({'Graduate': 1, 'Not Graduate': 0})"
   ]
  },
  {
   "cell_type": "code",
   "execution_count": 31,
   "id": "94f9dc7a",
   "metadata": {},
   "outputs": [],
   "source": [
    "data[\"self_employed\"]=data[\"self_employed\"].str.strip()\n",
    "data[\"self_employed\"]=data[\"self_employed\"].map({'Yes': 1, 'No': 0})"
   ]
  },
  {
   "cell_type": "code",
   "execution_count": 8,
   "id": "a9e1a4aa",
   "metadata": {},
   "outputs": [
    {
     "data": {
      "text/plain": [
       "0    1\n",
       "1    0\n",
       "2    1\n",
       "3    1\n",
       "4    0\n",
       "Name: education, dtype: int64"
      ]
     },
     "execution_count": 8,
     "metadata": {},
     "output_type": "execute_result"
    }
   ],
   "source": [
    "data[\"education\"].head()"
   ]
  },
  {
   "cell_type": "code",
   "execution_count": 23,
   "id": "33514091",
   "metadata": {},
   "outputs": [],
   "source": [
    "data[\"Total assets\"]=data[\"residential_assets_value\"]+data[\"commercial_assets_value\"]+data[\"luxury_assets_value\"]+data[\"bank_asset_value\"]"
   ]
  },
  {
   "cell_type": "code",
   "execution_count": 11,
   "id": "bc8c28b6",
   "metadata": {},
   "outputs": [
    {
     "name": "stdout",
     "output_type": "stream",
     "text": [
      "Correlation between loan status and CIBIL score: -0.01128142674264055\n"
     ]
    }
   ],
   "source": [
    "correlation_total = data['loan_status'].corr(data['Total assets'])\n",
    "print(f\"Correlation between loan status and CIBIL score: {correlation_total}\")"
   ]
  },
  {
   "cell_type": "code",
   "execution_count": 12,
   "id": "f46e9de1",
   "metadata": {},
   "outputs": [],
   "source": [
    "scaler = MinMaxScaler()\n",
    "data[['income_annum', 'loan_amount', 'residential_assets_value', 'commercial_assets_value', 'luxury_assets_value', 'bank_asset_value', 'Total assets']] = scaler.fit_transform(data[['income_annum', 'loan_amount', 'residential_assets_value', 'commercial_assets_value', 'luxury_assets_value', 'bank_asset_value', 'Total assets']])"
   ]
  },
  {
   "cell_type": "code",
   "execution_count": 15,
   "id": "6f44f962",
   "metadata": {},
   "outputs": [],
   "source": [
    "y = data['loan_status']\n",
    "X = data.drop(columns=['loan_status'])"
   ]
  },
  {
   "cell_type": "code",
   "execution_count": 16,
   "id": "add04d4a",
   "metadata": {},
   "outputs": [],
   "source": [
    "X_train, X_test, y_train, y_test = train_test_split(X, y, test_size=0.2, random_state=42)"
   ]
  },
  {
   "cell_type": "code",
   "execution_count": 18,
   "id": "45d3502c",
   "metadata": {},
   "outputs": [
    {
     "name": "stdout",
     "output_type": "stream",
     "text": [
      "Preprocessing objects saved to ../src/models/scaler.pkl\n"
     ]
    }
   ],
   "source": [
    "# Save the scaler object\n",
    "preprocessing_objects_path = \"../src/models/scaler.pkl\"\n",
    "joblib.dump(scaler, preprocessing_objects_path)\n",
    "\n",
    "print(f\"Preprocessing objects saved to {preprocessing_objects_path}\")"
   ]
  },
  {
   "cell_type": "code",
   "execution_count": 28,
   "id": "bcddb312",
   "metadata": {},
   "outputs": [],
   "source": [
    "test_df = X_test.copy()\n",
    "test_df['loan_status'] = y_test.values\n",
    "train_df = X_train.copy()\n",
    "train_df['loan_status'] = y_train.values\n",
    "train_df.to_csv('../data/train.csv', index=False)\n",
    "test_df.to_csv('../data/test.csv', index=False)"
   ]
  },
  {
   "cell_type": "code",
   "execution_count": 27,
   "id": "f01f6b71",
   "metadata": {},
   "outputs": [
    {
     "data": {
      "text/plain": [
       "3415"
      ]
     },
     "execution_count": 27,
     "metadata": {},
     "output_type": "execute_result"
    }
   ],
   "source": [
    "len(train_df)"
   ]
  },
  {
   "cell_type": "code",
   "execution_count": 29,
   "id": "9038e11d",
   "metadata": {},
   "outputs": [
    {
     "name": "stdout",
     "output_type": "stream",
     "text": [
      "      loan_id  no_of_dependents  education  self_employed  income_annum  \\\n",
      "1675     1676                 5          0              0      0.793814   \n",
      "1164     1165                 0          0              1      0.969072   \n",
      "192       193                 1          1              0      0.061856   \n",
      "910       911                 2          1              1      0.484536   \n",
      "567       568                 5          1              1      0.288660   \n",
      "\n",
      "      loan_amount  loan_term  cibil_score  residential_assets_value  \\\n",
      "1675     0.755102          6          568                  0.202055   \n",
      "1164     0.859694         12          710                  0.818493   \n",
      "192      0.066327          8          682                  0.078767   \n",
      "910      0.326531         18          754                  0.284247   \n",
      "567      0.275510         12          441                  0.294521   \n",
      "\n",
      "      commercial_assets_value  luxury_assets_value  bank_asset_value  \\\n",
      "1675                 0.716495             0.401028          0.591837   \n",
      "1164                 0.530928             0.971722          0.530612   \n",
      "192                  0.056701             0.066838          0.047619   \n",
      "910                  0.170103             0.416452          0.489796   \n",
      "567                  0.128866             0.179949          0.136054   \n",
      "\n",
      "      Total assets  loan_status  \n",
      "1675      0.486157            1  \n",
      "1164      0.881506            1  \n",
      "192       0.071982            1  \n",
      "910       0.385382            1  \n",
      "567       0.220377            0  \n"
     ]
    }
   ],
   "source": [
    "print(train_df.head())"
   ]
  },
  {
   "cell_type": "code",
   "execution_count": 20,
   "id": "19be25a2",
   "metadata": {},
   "outputs": [
    {
     "name": "stdout",
     "output_type": "stream",
     "text": [
      "Amount of rows in dataframe: 4269\n"
     ]
    }
   ],
   "source": [
    "num_rows = len(data)\n",
    "print(f\"Amount of rows in dataframe: {num_rows}\")"
   ]
  },
  {
   "cell_type": "code",
   "execution_count": null,
   "id": "cbef782e",
   "metadata": {},
   "outputs": [],
   "source": []
  }
 ],
 "metadata": {
  "kernelspec": {
   "display_name": "venv",
   "language": "python",
   "name": "python3"
  },
  "language_info": {
   "codemirror_mode": {
    "name": "ipython",
    "version": 3
   },
   "file_extension": ".py",
   "mimetype": "text/x-python",
   "name": "python",
   "nbconvert_exporter": "python",
   "pygments_lexer": "ipython3",
   "version": "3.13.0"
  }
 },
 "nbformat": 4,
 "nbformat_minor": 5
}
