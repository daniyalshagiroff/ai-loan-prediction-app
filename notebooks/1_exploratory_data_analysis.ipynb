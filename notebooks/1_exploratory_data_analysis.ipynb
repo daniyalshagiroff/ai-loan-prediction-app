{
 "cells": [
  {
   "cell_type": "code",
   "execution_count": 1,
   "id": "294e9326",
   "metadata": {},
   "outputs": [],
   "source": [
    "import pandas as pd\n",
    "import numpy as np"
   ]
  },
  {
   "cell_type": "code",
   "execution_count": 3,
   "id": "83bd3de9",
   "metadata": {},
   "outputs": [],
   "source": [
    "data = pd.read_csv('../data/loan_approval_dataset.csv')"
   ]
  },
  {
   "cell_type": "code",
   "execution_count": 43,
   "id": "97f7de0b",
   "metadata": {},
   "outputs": [
    {
     "data": {
      "text/html": [
       "<div>\n",
       "<style scoped>\n",
       "    .dataframe tbody tr th:only-of-type {\n",
       "        vertical-align: middle;\n",
       "    }\n",
       "\n",
       "    .dataframe tbody tr th {\n",
       "        vertical-align: top;\n",
       "    }\n",
       "\n",
       "    .dataframe thead th {\n",
       "        text-align: right;\n",
       "    }\n",
       "</style>\n",
       "<table border=\"1\" class=\"dataframe\">\n",
       "  <thead>\n",
       "    <tr style=\"text-align: right;\">\n",
       "      <th></th>\n",
       "      <th>loan_id</th>\n",
       "      <th>no_of_dependents</th>\n",
       "      <th>education</th>\n",
       "      <th>self_employed</th>\n",
       "      <th>income_annum</th>\n",
       "      <th>loan_amount</th>\n",
       "      <th>loan_term</th>\n",
       "      <th>cibil_score</th>\n",
       "      <th>residential_assets_value</th>\n",
       "      <th>commercial_assets_value</th>\n",
       "      <th>luxury_assets_value</th>\n",
       "      <th>bank_asset_value</th>\n",
       "      <th>loan_status</th>\n",
       "      <th>loan_status_num</th>\n",
       "    </tr>\n",
       "  </thead>\n",
       "  <tbody>\n",
       "    <tr>\n",
       "      <th>0</th>\n",
       "      <td>1</td>\n",
       "      <td>2</td>\n",
       "      <td>Graduate</td>\n",
       "      <td>No</td>\n",
       "      <td>9600000</td>\n",
       "      <td>29900000</td>\n",
       "      <td>12</td>\n",
       "      <td>778</td>\n",
       "      <td>2400000</td>\n",
       "      <td>17600000</td>\n",
       "      <td>22700000</td>\n",
       "      <td>8000000</td>\n",
       "      <td>Approved</td>\n",
       "      <td>1</td>\n",
       "    </tr>\n",
       "    <tr>\n",
       "      <th>1</th>\n",
       "      <td>2</td>\n",
       "      <td>0</td>\n",
       "      <td>Not Graduate</td>\n",
       "      <td>Yes</td>\n",
       "      <td>4100000</td>\n",
       "      <td>12200000</td>\n",
       "      <td>8</td>\n",
       "      <td>417</td>\n",
       "      <td>2700000</td>\n",
       "      <td>2200000</td>\n",
       "      <td>8800000</td>\n",
       "      <td>3300000</td>\n",
       "      <td>Rejected</td>\n",
       "      <td>0</td>\n",
       "    </tr>\n",
       "    <tr>\n",
       "      <th>2</th>\n",
       "      <td>3</td>\n",
       "      <td>3</td>\n",
       "      <td>Graduate</td>\n",
       "      <td>No</td>\n",
       "      <td>9100000</td>\n",
       "      <td>29700000</td>\n",
       "      <td>20</td>\n",
       "      <td>506</td>\n",
       "      <td>7100000</td>\n",
       "      <td>4500000</td>\n",
       "      <td>33300000</td>\n",
       "      <td>12800000</td>\n",
       "      <td>Rejected</td>\n",
       "      <td>0</td>\n",
       "    </tr>\n",
       "    <tr>\n",
       "      <th>3</th>\n",
       "      <td>4</td>\n",
       "      <td>3</td>\n",
       "      <td>Graduate</td>\n",
       "      <td>No</td>\n",
       "      <td>8200000</td>\n",
       "      <td>30700000</td>\n",
       "      <td>8</td>\n",
       "      <td>467</td>\n",
       "      <td>18200000</td>\n",
       "      <td>3300000</td>\n",
       "      <td>23300000</td>\n",
       "      <td>7900000</td>\n",
       "      <td>Rejected</td>\n",
       "      <td>0</td>\n",
       "    </tr>\n",
       "    <tr>\n",
       "      <th>4</th>\n",
       "      <td>5</td>\n",
       "      <td>5</td>\n",
       "      <td>Not Graduate</td>\n",
       "      <td>Yes</td>\n",
       "      <td>9800000</td>\n",
       "      <td>24200000</td>\n",
       "      <td>20</td>\n",
       "      <td>382</td>\n",
       "      <td>12400000</td>\n",
       "      <td>8200000</td>\n",
       "      <td>29400000</td>\n",
       "      <td>5000000</td>\n",
       "      <td>Rejected</td>\n",
       "      <td>0</td>\n",
       "    </tr>\n",
       "  </tbody>\n",
       "</table>\n",
       "</div>"
      ],
      "text/plain": [
       "   loan_id  no_of_dependents      education self_employed  income_annum  \\\n",
       "0        1                 2       Graduate            No       9600000   \n",
       "1        2                 0   Not Graduate           Yes       4100000   \n",
       "2        3                 3       Graduate            No       9100000   \n",
       "3        4                 3       Graduate            No       8200000   \n",
       "4        5                 5   Not Graduate           Yes       9800000   \n",
       "\n",
       "   loan_amount  loan_term  cibil_score  residential_assets_value  \\\n",
       "0     29900000         12          778                   2400000   \n",
       "1     12200000          8          417                   2700000   \n",
       "2     29700000         20          506                   7100000   \n",
       "3     30700000          8          467                  18200000   \n",
       "4     24200000         20          382                  12400000   \n",
       "\n",
       "   commercial_assets_value  luxury_assets_value  bank_asset_value loan_status  \\\n",
       "0                 17600000             22700000           8000000    Approved   \n",
       "1                  2200000              8800000           3300000    Rejected   \n",
       "2                  4500000             33300000          12800000    Rejected   \n",
       "3                  3300000             23300000           7900000    Rejected   \n",
       "4                  8200000             29400000           5000000    Rejected   \n",
       "\n",
       "   loan_status_num  \n",
       "0                1  \n",
       "1                0  \n",
       "2                0  \n",
       "3                0  \n",
       "4                0  "
      ]
     },
     "execution_count": 43,
     "metadata": {},
     "output_type": "execute_result"
    }
   ],
   "source": [
    "data.head()"
   ]
  },
  {
   "cell_type": "code",
   "execution_count": 13,
   "id": "2dc4b2cf",
   "metadata": {},
   "outputs": [],
   "source": [
    "data.columns = data.columns.str.strip()"
   ]
  },
  {
   "cell_type": "code",
   "execution_count": 14,
   "id": "30bb38a9",
   "metadata": {},
   "outputs": [
    {
     "data": {
      "text/plain": [
       "loan_status\n",
       "Approved    0.62216\n",
       "Rejected    0.37784\n",
       "Name: proportion, dtype: float64"
      ]
     },
     "execution_count": 14,
     "metadata": {},
     "output_type": "execute_result"
    }
   ],
   "source": [
    "data['loan_status'].value_counts(normalize=True)"
   ]
  },
  {
   "cell_type": "code",
   "execution_count": 15,
   "id": "bf7b2d33",
   "metadata": {},
   "outputs": [
    {
     "name": "stdout",
     "output_type": "stream",
     "text": [
      "loan_id                     0\n",
      "no_of_dependents            0\n",
      "education                   0\n",
      "self_employed               0\n",
      "income_annum                0\n",
      "loan_amount                 0\n",
      "loan_term                   0\n",
      "cibil_score                 0\n",
      "residential_assets_value    0\n",
      "commercial_assets_value     0\n",
      "luxury_assets_value         0\n",
      "bank_asset_value            0\n",
      "loan_status                 0\n",
      "dtype: int64\n"
     ]
    }
   ],
   "source": [
    "missing_values = data.isnull().sum()\n",
    "print(missing_values)"
   ]
  },
  {
   "cell_type": "code",
   "execution_count": 16,
   "id": "34e97de1",
   "metadata": {},
   "outputs": [
    {
     "data": {
      "text/plain": [
       "education     loan_status\n",
       "Graduate      Approved       0.624534\n",
       "              Rejected       0.375466\n",
       "Not Graduate  Approved       0.619765\n",
       "              Rejected       0.380235\n",
       "Name: proportion, dtype: float64"
      ]
     },
     "execution_count": 16,
     "metadata": {},
     "output_type": "execute_result"
    }
   ],
   "source": [
    "data.groupby('education')['loan_status'].value_counts(normalize=True)"
   ]
  },
  {
   "cell_type": "code",
   "execution_count": 17,
   "id": "ca0f527b",
   "metadata": {},
   "outputs": [
    {
     "data": {
      "text/plain": [
       "self_employed  loan_status\n",
       "No             Approved       0.621992\n",
       "               Rejected       0.378008\n",
       "Yes            Approved       0.622326\n",
       "               Rejected       0.377674\n",
       "Name: proportion, dtype: float64"
      ]
     },
     "execution_count": 17,
     "metadata": {},
     "output_type": "execute_result"
    }
   ],
   "source": [
    "data.groupby('self_employed')['loan_status'].value_counts(normalize=True)"
   ]
  },
  {
   "cell_type": "code",
   "execution_count": 49,
   "id": "1bcdbc79",
   "metadata": {},
   "outputs": [
    {
     "data": {
      "text/plain": [
       "loan_term  loan_status\n",
       "2          Approved       0.779703\n",
       "           Rejected       0.220297\n",
       "4          Approved       0.818792\n",
       "           Rejected       0.181208\n",
       "6          Approved       0.575510\n",
       "           Rejected       0.424490\n",
       "8          Approved       0.569948\n",
       "           Rejected       0.430052\n",
       "10         Approved       0.525229\n",
       "           Rejected       0.474771\n",
       "12         Approved       0.605263\n",
       "           Rejected       0.394737\n",
       "14         Approved       0.590123\n",
       "           Rejected       0.409877\n",
       "16         Approved       0.572816\n",
       "           Rejected       0.427184\n",
       "18         Approved       0.609005\n",
       "           Rejected       0.390995\n",
       "20         Approved       0.574209\n",
       "           Rejected       0.425791\n",
       "Name: proportion, dtype: float64"
      ]
     },
     "execution_count": 49,
     "metadata": {},
     "output_type": "execute_result"
    }
   ],
   "source": [
    "data.groupby('loan_term')['loan_status'].value_counts(normalize=True)"
   ]
  },
  {
   "cell_type": "code",
   "execution_count": null,
   "id": "071c0b54",
   "metadata": {},
   "outputs": [
    {
     "data": {
      "text/plain": [
       "no_of_dependents  loan_status\n",
       "0                 Approved       0.641854\n",
       "                  Rejected       0.358146\n",
       "1                 Approved       0.616930\n",
       "                  Rejected       0.383070\n",
       "2                 Approved       0.622881\n",
       "                  Rejected       0.377119\n",
       "3                 Approved       0.628611\n",
       "                  Rejected       0.371389\n",
       "4                 Approved       0.618351\n",
       "                  Rejected       0.381649\n",
       "5                 Approved       0.603269\n",
       "                  Rejected       0.396731\n",
       "Name: proportion, dtype: float64"
      ]
     },
     "execution_count": 47,
     "metadata": {},
     "output_type": "execute_result"
    }
   ],
   "source": [
    "data.groupby('no_of_dependents')['loan_status'].value_counts(normalize=True)"
   ]
  },
  {
   "cell_type": "code",
   "execution_count": 38,
   "id": "f3cbd1ab",
   "metadata": {},
   "outputs": [],
   "source": [
    "data['loan_status'] = data['loan_status'].str.strip()"
   ]
  },
  {
   "cell_type": "code",
   "execution_count": 39,
   "id": "d0e8ac47",
   "metadata": {},
   "outputs": [],
   "source": [
    "data['loan_status_num'] = data['loan_status'].map({'Approved': 1, 'Rejected': 0})"
   ]
  },
  {
   "cell_type": "code",
   "execution_count": 34,
   "id": "e6f91f0a",
   "metadata": {},
   "outputs": [
    {
     "data": {
      "text/plain": [
       "0    9600000\n",
       "1    4100000\n",
       "2    9100000\n",
       "3    8200000\n",
       "4    9800000\n",
       "Name: income_annum, dtype: int64"
      ]
     },
     "execution_count": 34,
     "metadata": {},
     "output_type": "execute_result"
    }
   ],
   "source": [
    "data['income_annum'].head()"
   ]
  },
  {
   "cell_type": "code",
   "execution_count": 41,
   "id": "1ba23123",
   "metadata": {},
   "outputs": [
    {
     "name": "stdout",
     "output_type": "stream",
     "text": [
      "loan_status_num    0\n",
      "income_annum       0\n",
      "dtype: int64\n"
     ]
    }
   ],
   "source": [
    "print(data[['loan_status_num', 'income_annum']].isnull().sum())"
   ]
  },
  {
   "cell_type": "code",
   "execution_count": null,
   "id": "398e924b",
   "metadata": {},
   "outputs": [
    {
     "name": "stdout",
     "output_type": "stream",
     "text": [
      "Correlation between loan status and annual income: -0.015189156991943602\n"
     ]
    }
   ],
   "source": [
    "correlation_income = data['loan_status_num'].corr(data['income_annum'])\n",
    "print(f\"Correlation between loan status and annual income: {correlation_income}\")"
   ]
  },
  {
   "cell_type": "code",
   "execution_count": 42,
   "id": "b2a623ed",
   "metadata": {},
   "outputs": [
    {
     "name": "stdout",
     "output_type": "stream",
     "text": [
      "Correlation between loan status and loan_amount: 0.01614968392531592\n"
     ]
    }
   ],
   "source": [
    "correlation_loan_amount = data['loan_status_num'].corr(data['loan_amount'])\n",
    "print(f\"Correlation between loan status and loan_amount: {correlation_loan_amount}\")"
   ]
  },
  {
   "cell_type": "code",
   "execution_count": 45,
   "id": "5358027d",
   "metadata": {},
   "outputs": [
    {
     "name": "stdout",
     "output_type": "stream",
     "text": [
      "Correlation between loan status and loan_amount: 0.01614968392531592\n"
     ]
    }
   ],
   "source": [
    "correlation_loan_amount = data['loan_status_num'].corr(data['loan_amount'])\n",
    "print(f\"Correlation between loan status and loan_amount: {correlation_loan_amount}\")"
   ]
  },
  {
   "cell_type": "code",
   "execution_count": 48,
   "id": "b7d395c3",
   "metadata": {},
   "outputs": [
    {
     "name": "stdout",
     "output_type": "stream",
     "text": [
      "Correlation between loan status and loan_amount: 0.01614968392531592\n",
      "Correlation between loan status and loan_amount: 0.01614968392531592\n",
      "Correlation between loan status and residential assets value: -0.01436651453599929\n",
      "Correlation between loan status and commercial assets value: 0.008245868278426226\n",
      "Correlation between loan status and luxury assets value: -0.015464711194809464\n",
      "Correlation between loan status and bank asset value: -0.0067784398003721165\n",
      "Correlation between loan status and CIBIL score: 0.7705183649807016\n"
     ]
    }
   ],
   "source": [
    "correlation_loan_amount = data['loan_status_num'].corr(data['loan_amount'])\n",
    "print(f\"Correlation between loan status and loan_amount: {correlation_loan_amount}\")\n",
    "\n",
    "correlation_loan_amount = data['loan_status_num'].corr(data['loan_amount'])\n",
    "print(f\"Correlation between loan status and loan_amount: {correlation_loan_amount}\")\n",
    "\n",
    "correlation_residential = data['loan_status_num'].corr(data['residential_assets_value'])\n",
    "print(f\"Correlation between loan status and residential assets value: {correlation_residential}\")\n",
    "\n",
    "correlation_commercial = data['loan_status_num'].corr(data['commercial_assets_value'])\n",
    "print(f\"Correlation between loan status and commercial assets value: {correlation_commercial}\")\n",
    "\n",
    "correlation_luxury = data['loan_status_num'].corr(data['luxury_assets_value'])\n",
    "print(f\"Correlation between loan status and luxury assets value: {correlation_luxury}\")\n",
    "\n",
    "correlation_bank = data['loan_status_num'].corr(data['bank_asset_value'])\n",
    "print(f\"Correlation between loan status and bank asset value: {correlation_bank}\")\n",
    "\n",
    "correlation_cibil = data['loan_status_num'].corr(data['cibil_score'])\n",
    "print(f\"Correlation between loan status and CIBIL score: {correlation_cibil}\")"
   ]
  },
  {
   "cell_type": "code",
   "execution_count": 75,
   "id": "1ec77d53",
   "metadata": {},
   "outputs": [
    {
     "data": {
      "image/png": "[encoded data removed]",
      "text/plain": [
       "<Figure size 640x480 with 1 Axes>"
      ]
     },
     "metadata": {},
     "output_type": "display_data"
    }
   ],
   "source": [
    "import seaborn as sns\n",
    "import matplotlib.pyplot as plt\n",
    "\n",
    "sns.violinplot(x='loan_status', y='cibil_score', data=data)\n",
    "plt.title('Income Annum vs cibil Score')\n",
    "plt.xlabel('Loan Status')\n",
    "plt.ylabel('CIBIL Score')\n",
    "plt.show()"
   ]
  },
  {
   "cell_type": "code",
   "execution_count": 76,
   "id": "11fe936c",
   "metadata": {},
   "outputs": [
    {
     "name": "stdout",
     "output_type": "stream",
     "text": [
      "    loan_term Percentage of approved\n",
      "2           4                 81.88%\n",
      "0           2                 77.97%\n",
      "16         18                  60.9%\n",
      "10         12                 60.53%\n",
      "12         14                 59.01%\n",
      "4           6                 57.55%\n",
      "18         20                 57.42%\n",
      "14         16                 57.28%\n",
      "6           8                 56.99%\n",
      "8          10                 52.52%\n"
     ]
    }
   ],
   "source": [
    "loan_term_proportion_df = data.groupby(['loan_term', 'loan_status']).size() / data.groupby(['loan_term']).size()\n",
    "loan_term_proportion_df = loan_term_proportion_df.reset_index(name='Percentage of approved')\n",
    "loan_term_proportion_df = loan_term_proportion_df[loan_term_proportion_df['loan_status'] != 'Rejected']\n",
    "loan_term_proportion_df = loan_term_proportion_df.drop(columns=['loan_status'])\n",
    "loan_term_proportion_df['Percentage of approved'] = loan_term_proportion_df['Percentage of approved'] * 100\n",
    "loan_term_proportion_df['Percentage of approved'] = loan_term_proportion_df['Percentage of approved'].round(2).astype(str) + '%'\n",
    "loan_term_proportion_df = loan_term_proportion_df.sort_values(by='Percentage of approved', ascending=False)\n",
    "\n",
    "print(loan_term_proportion_df)"
   ]
  },
  {
   "cell_type": "code",
   "execution_count": null,
   "id": "6d1a9b7f",
   "metadata": {},
   "outputs": [
    {
     "data": {
      "image/png": "[encoded data removed]",
      "text/plain": [
       "<Figure size 1000x600 with 1 Axes>"
      ]
     },
     "metadata": {},
     "output_type": "display_data"
    }
   ],
   "source": [
    "import matplotlib.pyplot as plt\n",
    "\n",
    "loan_term_proportion_df['Percentage of approved'] = loan_term_proportion_df['Percentage of approved'].astype(float)\n",
    "\n",
    "plt.figure(figsize=(10, 6))\n",
    "plt.bar(loan_term_proportion_df['loan_term'], loan_term_proportion_df['Percentage of approved'], color='skyblue')\n",
    "\n",
    "plt.title('Lon term VS Percentage of approval', fontsize=14)\n",
    "plt.xlabel('Loan term in months', fontsize=12)\n",
    "plt.ylabel('Percentage of approval (%)', fontsize=12)\n",
    "plt.ylim(0, 100) \n",
    "plt.grid(axis='y', linestyle='--', alpha=0.7)\n",
    "plt.xticks(rotation=45, fontsize=10)\n",
    "plt.tight_layout()\n",
    "\n",
    "plt.show()"
   ]
  }
 ],
 "metadata": {
  "kernelspec": {
   "display_name": "venv",
   "language": "python",
   "name": "python3"
  },
  "language_info": {
   "codemirror_mode": {
    "name": "ipython",
    "version": 3
   },
   "file_extension": ".py",
   "mimetype": "text/x-python",
   "name": "python",
   "nbconvert_exporter": "python",
   "pygments_lexer": "ipython3",
   "version": "3.13.0"
  }
 },
 "nbformat": 4,
 "nbformat_minor": 5
}
